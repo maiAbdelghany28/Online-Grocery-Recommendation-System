{
 "cells": [
  {
   "cell_type": "markdown",
   "id": "80d60438",
   "metadata": {},
   "source": [
    "\n",
    "\n",
    "<h1><center><font color=crimson> \n",
    "    <br> CSAI 325 - Introduction to Data Science \n",
    "<center><font color=crimson>     \n",
    "    <br> Final Project - Online Grocery Recommendation System\n",
    "\n",
    " \n",
    "    \n",
    "   "
   ]
  },
  {
   "cell_type": "markdown",
   "id": "a50c69f7",
   "metadata": {},
   "source": [
    "### <b><font color=steelblue>  Team Members:  Mai Waheed 202200556 || Lujain Ahmad 202201738 || Farida Mohamed 202202579"
   ]
  },
  {
   "cell_type": "code",
   "execution_count": 1,
   "id": "1ec23d0f",
   "metadata": {},
   "outputs": [],
   "source": [
    "import pandas as pd\n",
    "import numpy as np\n",
    "import seaborn as sns\n",
    "import matplotlib.pyplot as plt\n",
    "from sklearn.model_selection import train_test_split\n",
    "from sklearn.preprocessing import LabelEncoder\n",
    "from sklearn.metrics import accuracy_score, precision_score, recall_score, f1_score, roc_auc_score, roc_curve, auc\n",
    "from sklearn.ensemble import RandomForestClassifier\n",
    "from sklearn.linear_model import LogisticRegression\n",
    "from sklearn.tree import DecisionTreeClassifier\n",
    "from sklearn.neighbors import KNeighborsClassifier"
   ]
  },
  {
   "cell_type": "code",
   "execution_count": 2,
   "id": "fb13e4b3",
   "metadata": {},
   "outputs": [],
   "source": [
    "aisle = pd.read_csv('aisles.csv')\n",
    "department = pd.read_csv('departments.csv')\n",
    "oP_Prior = pd.read_csv('order_products__prior.csv')\n",
    "oP_Train = pd.read_csv('order_products__train.csv')\n",
    "order = pd.read_csv('orders.csv')\n",
    "product = pd.read_csv('products.csv')"
   ]
  },
  {
   "cell_type": "markdown",
   "id": "9966af5d",
   "metadata": {},
   "source": [
    "## Exploratory Data Analysis"
   ]
  },
  {
   "cell_type": "code",
   "execution_count": 3,
   "id": "f6588a69",
   "metadata": {},
   "outputs": [
    {
     "data": {
      "text/html": [
       "<div>\n",
       "<style scoped>\n",
       "    .dataframe tbody tr th:only-of-type {\n",
       "        vertical-align: middle;\n",
       "    }\n",
       "\n",
       "    .dataframe tbody tr th {\n",
       "        vertical-align: top;\n",
       "    }\n",
       "\n",
       "    .dataframe thead th {\n",
       "        text-align: right;\n",
       "    }\n",
       "</style>\n",
       "<table border=\"1\" class=\"dataframe\">\n",
       "  <thead>\n",
       "    <tr style=\"text-align: right;\">\n",
       "      <th></th>\n",
       "      <th>aisle_id</th>\n",
       "      <th>aisle</th>\n",
       "    </tr>\n",
       "  </thead>\n",
       "  <tbody>\n",
       "    <tr>\n",
       "      <th>0</th>\n",
       "      <td>1</td>\n",
       "      <td>prepared soups salads</td>\n",
       "    </tr>\n",
       "    <tr>\n",
       "      <th>1</th>\n",
       "      <td>2</td>\n",
       "      <td>specialty cheeses</td>\n",
       "    </tr>\n",
       "    <tr>\n",
       "      <th>2</th>\n",
       "      <td>3</td>\n",
       "      <td>energy granola bars</td>\n",
       "    </tr>\n",
       "    <tr>\n",
       "      <th>3</th>\n",
       "      <td>4</td>\n",
       "      <td>instant foods</td>\n",
       "    </tr>\n",
       "    <tr>\n",
       "      <th>4</th>\n",
       "      <td>5</td>\n",
       "      <td>marinades meat preparation</td>\n",
       "    </tr>\n",
       "  </tbody>\n",
       "</table>\n",
       "</div>"
      ],
      "text/plain": [
       "   aisle_id                       aisle\n",
       "0         1       prepared soups salads\n",
       "1         2           specialty cheeses\n",
       "2         3         energy granola bars\n",
       "3         4               instant foods\n",
       "4         5  marinades meat preparation"
      ]
     },
     "execution_count": 3,
     "metadata": {},
     "output_type": "execute_result"
    }
   ],
   "source": [
    "aisle.head()"
   ]
  },
  {
   "cell_type": "code",
   "execution_count": 4,
   "id": "3b5e3c3f",
   "metadata": {},
   "outputs": [
    {
     "data": {
      "text/html": [
       "<div>\n",
       "<style scoped>\n",
       "    .dataframe tbody tr th:only-of-type {\n",
       "        vertical-align: middle;\n",
       "    }\n",
       "\n",
       "    .dataframe tbody tr th {\n",
       "        vertical-align: top;\n",
       "    }\n",
       "\n",
       "    .dataframe thead th {\n",
       "        text-align: right;\n",
       "    }\n",
       "</style>\n",
       "<table border=\"1\" class=\"dataframe\">\n",
       "  <thead>\n",
       "    <tr style=\"text-align: right;\">\n",
       "      <th></th>\n",
       "      <th>department_id</th>\n",
       "      <th>department</th>\n",
       "    </tr>\n",
       "  </thead>\n",
       "  <tbody>\n",
       "    <tr>\n",
       "      <th>0</th>\n",
       "      <td>1</td>\n",
       "      <td>frozen</td>\n",
       "    </tr>\n",
       "    <tr>\n",
       "      <th>1</th>\n",
       "      <td>2</td>\n",
       "      <td>other</td>\n",
       "    </tr>\n",
       "    <tr>\n",
       "      <th>2</th>\n",
       "      <td>3</td>\n",
       "      <td>bakery</td>\n",
       "    </tr>\n",
       "    <tr>\n",
       "      <th>3</th>\n",
       "      <td>4</td>\n",
       "      <td>produce</td>\n",
       "    </tr>\n",
       "    <tr>\n",
       "      <th>4</th>\n",
       "      <td>5</td>\n",
       "      <td>alcohol</td>\n",
       "    </tr>\n",
       "  </tbody>\n",
       "</table>\n",
       "</div>"
      ],
      "text/plain": [
       "   department_id department\n",
       "0              1     frozen\n",
       "1              2      other\n",
       "2              3     bakery\n",
       "3              4    produce\n",
       "4              5    alcohol"
      ]
     },
     "execution_count": 4,
     "metadata": {},
     "output_type": "execute_result"
    }
   ],
   "source": [
    "department.head()"
   ]
  },
  {
   "cell_type": "code",
   "execution_count": 5,
   "id": "51858867",
   "metadata": {},
   "outputs": [
    {
     "data": {
      "text/html": [
       "<div>\n",
       "<style scoped>\n",
       "    .dataframe tbody tr th:only-of-type {\n",
       "        vertical-align: middle;\n",
       "    }\n",
       "\n",
       "    .dataframe tbody tr th {\n",
       "        vertical-align: top;\n",
       "    }\n",
       "\n",
       "    .dataframe thead th {\n",
       "        text-align: right;\n",
       "    }\n",
       "</style>\n",
       "<table border=\"1\" class=\"dataframe\">\n",
       "  <thead>\n",
       "    <tr style=\"text-align: right;\">\n",
       "      <th></th>\n",
       "      <th>order_id</th>\n",
       "      <th>product_id</th>\n",
       "      <th>add_to_cart_order</th>\n",
       "      <th>reordered</th>\n",
       "    </tr>\n",
       "  </thead>\n",
       "  <tbody>\n",
       "    <tr>\n",
       "      <th>0</th>\n",
       "      <td>2</td>\n",
       "      <td>33120</td>\n",
       "      <td>1</td>\n",
       "      <td>1</td>\n",
       "    </tr>\n",
       "    <tr>\n",
       "      <th>1</th>\n",
       "      <td>2</td>\n",
       "      <td>28985</td>\n",
       "      <td>2</td>\n",
       "      <td>1</td>\n",
       "    </tr>\n",
       "    <tr>\n",
       "      <th>2</th>\n",
       "      <td>2</td>\n",
       "      <td>9327</td>\n",
       "      <td>3</td>\n",
       "      <td>0</td>\n",
       "    </tr>\n",
       "    <tr>\n",
       "      <th>3</th>\n",
       "      <td>2</td>\n",
       "      <td>45918</td>\n",
       "      <td>4</td>\n",
       "      <td>1</td>\n",
       "    </tr>\n",
       "    <tr>\n",
       "      <th>4</th>\n",
       "      <td>2</td>\n",
       "      <td>30035</td>\n",
       "      <td>5</td>\n",
       "      <td>0</td>\n",
       "    </tr>\n",
       "  </tbody>\n",
       "</table>\n",
       "</div>"
      ],
      "text/plain": [
       "   order_id  product_id  add_to_cart_order  reordered\n",
       "0         2       33120                  1          1\n",
       "1         2       28985                  2          1\n",
       "2         2        9327                  3          0\n",
       "3         2       45918                  4          1\n",
       "4         2       30035                  5          0"
      ]
     },
     "execution_count": 5,
     "metadata": {},
     "output_type": "execute_result"
    }
   ],
   "source": [
    "oP_Prior.head()"
   ]
  },
  {
   "cell_type": "code",
   "execution_count": 6,
   "id": "c82daf14",
   "metadata": {},
   "outputs": [
    {
     "data": {
      "text/html": [
       "<div>\n",
       "<style scoped>\n",
       "    .dataframe tbody tr th:only-of-type {\n",
       "        vertical-align: middle;\n",
       "    }\n",
       "\n",
       "    .dataframe tbody tr th {\n",
       "        vertical-align: top;\n",
       "    }\n",
       "\n",
       "    .dataframe thead th {\n",
       "        text-align: right;\n",
       "    }\n",
       "</style>\n",
       "<table border=\"1\" class=\"dataframe\">\n",
       "  <thead>\n",
       "    <tr style=\"text-align: right;\">\n",
       "      <th></th>\n",
       "      <th>order_id</th>\n",
       "      <th>product_id</th>\n",
       "      <th>add_to_cart_order</th>\n",
       "      <th>reordered</th>\n",
       "    </tr>\n",
       "  </thead>\n",
       "  <tbody>\n",
       "    <tr>\n",
       "      <th>0</th>\n",
       "      <td>1</td>\n",
       "      <td>49302</td>\n",
       "      <td>1</td>\n",
       "      <td>1</td>\n",
       "    </tr>\n",
       "    <tr>\n",
       "      <th>1</th>\n",
       "      <td>1</td>\n",
       "      <td>11109</td>\n",
       "      <td>2</td>\n",
       "      <td>1</td>\n",
       "    </tr>\n",
       "    <tr>\n",
       "      <th>2</th>\n",
       "      <td>1</td>\n",
       "      <td>10246</td>\n",
       "      <td>3</td>\n",
       "      <td>0</td>\n",
       "    </tr>\n",
       "    <tr>\n",
       "      <th>3</th>\n",
       "      <td>1</td>\n",
       "      <td>49683</td>\n",
       "      <td>4</td>\n",
       "      <td>0</td>\n",
       "    </tr>\n",
       "    <tr>\n",
       "      <th>4</th>\n",
       "      <td>1</td>\n",
       "      <td>43633</td>\n",
       "      <td>5</td>\n",
       "      <td>1</td>\n",
       "    </tr>\n",
       "  </tbody>\n",
       "</table>\n",
       "</div>"
      ],
      "text/plain": [
       "   order_id  product_id  add_to_cart_order  reordered\n",
       "0         1       49302                  1          1\n",
       "1         1       11109                  2          1\n",
       "2         1       10246                  3          0\n",
       "3         1       49683                  4          0\n",
       "4         1       43633                  5          1"
      ]
     },
     "execution_count": 6,
     "metadata": {},
     "output_type": "execute_result"
    }
   ],
   "source": [
    "oP_Train.head()"
   ]
  },
  {
   "cell_type": "code",
   "execution_count": 7,
   "id": "7fec84ea",
   "metadata": {},
   "outputs": [
    {
     "data": {
      "text/html": [
       "<div>\n",
       "<style scoped>\n",
       "    .dataframe tbody tr th:only-of-type {\n",
       "        vertical-align: middle;\n",
       "    }\n",
       "\n",
       "    .dataframe tbody tr th {\n",
       "        vertical-align: top;\n",
       "    }\n",
       "\n",
       "    .dataframe thead th {\n",
       "        text-align: right;\n",
       "    }\n",
       "</style>\n",
       "<table border=\"1\" class=\"dataframe\">\n",
       "  <thead>\n",
       "    <tr style=\"text-align: right;\">\n",
       "      <th></th>\n",
       "      <th>order_id</th>\n",
       "      <th>user_id</th>\n",
       "      <th>eval_set</th>\n",
       "      <th>order_number</th>\n",
       "      <th>order_dow</th>\n",
       "      <th>order_hour_of_day</th>\n",
       "      <th>days_since_prior_order</th>\n",
       "    </tr>\n",
       "  </thead>\n",
       "  <tbody>\n",
       "    <tr>\n",
       "      <th>0</th>\n",
       "      <td>2539329</td>\n",
       "      <td>1</td>\n",
       "      <td>prior</td>\n",
       "      <td>1</td>\n",
       "      <td>2</td>\n",
       "      <td>8</td>\n",
       "      <td>NaN</td>\n",
       "    </tr>\n",
       "    <tr>\n",
       "      <th>1</th>\n",
       "      <td>2398795</td>\n",
       "      <td>1</td>\n",
       "      <td>prior</td>\n",
       "      <td>2</td>\n",
       "      <td>3</td>\n",
       "      <td>7</td>\n",
       "      <td>15.0</td>\n",
       "    </tr>\n",
       "    <tr>\n",
       "      <th>2</th>\n",
       "      <td>473747</td>\n",
       "      <td>1</td>\n",
       "      <td>prior</td>\n",
       "      <td>3</td>\n",
       "      <td>3</td>\n",
       "      <td>12</td>\n",
       "      <td>21.0</td>\n",
       "    </tr>\n",
       "    <tr>\n",
       "      <th>3</th>\n",
       "      <td>2254736</td>\n",
       "      <td>1</td>\n",
       "      <td>prior</td>\n",
       "      <td>4</td>\n",
       "      <td>4</td>\n",
       "      <td>7</td>\n",
       "      <td>29.0</td>\n",
       "    </tr>\n",
       "    <tr>\n",
       "      <th>4</th>\n",
       "      <td>431534</td>\n",
       "      <td>1</td>\n",
       "      <td>prior</td>\n",
       "      <td>5</td>\n",
       "      <td>4</td>\n",
       "      <td>15</td>\n",
       "      <td>28.0</td>\n",
       "    </tr>\n",
       "  </tbody>\n",
       "</table>\n",
       "</div>"
      ],
      "text/plain": [
       "   order_id  user_id eval_set  order_number  order_dow  order_hour_of_day  \\\n",
       "0   2539329        1    prior             1          2                  8   \n",
       "1   2398795        1    prior             2          3                  7   \n",
       "2    473747        1    prior             3          3                 12   \n",
       "3   2254736        1    prior             4          4                  7   \n",
       "4    431534        1    prior             5          4                 15   \n",
       "\n",
       "   days_since_prior_order  \n",
       "0                     NaN  \n",
       "1                    15.0  \n",
       "2                    21.0  \n",
       "3                    29.0  \n",
       "4                    28.0  "
      ]
     },
     "execution_count": 7,
     "metadata": {},
     "output_type": "execute_result"
    }
   ],
   "source": [
    "order.head()"
   ]
  },
  {
   "cell_type": "code",
   "execution_count": 8,
   "id": "75085784",
   "metadata": {},
   "outputs": [
    {
     "data": {
      "text/html": [
       "<div>\n",
       "<style scoped>\n",
       "    .dataframe tbody tr th:only-of-type {\n",
       "        vertical-align: middle;\n",
       "    }\n",
       "\n",
       "    .dataframe tbody tr th {\n",
       "        vertical-align: top;\n",
       "    }\n",
       "\n",
       "    .dataframe thead th {\n",
       "        text-align: right;\n",
       "    }\n",
       "</style>\n",
       "<table border=\"1\" class=\"dataframe\">\n",
       "  <thead>\n",
       "    <tr style=\"text-align: right;\">\n",
       "      <th></th>\n",
       "      <th>product_id</th>\n",
       "      <th>product_name</th>\n",
       "      <th>aisle_id</th>\n",
       "      <th>department_id</th>\n",
       "    </tr>\n",
       "  </thead>\n",
       "  <tbody>\n",
       "    <tr>\n",
       "      <th>0</th>\n",
       "      <td>1</td>\n",
       "      <td>Chocolate Sandwich Cookies</td>\n",
       "      <td>61</td>\n",
       "      <td>19</td>\n",
       "    </tr>\n",
       "    <tr>\n",
       "      <th>1</th>\n",
       "      <td>2</td>\n",
       "      <td>All-Seasons Salt</td>\n",
       "      <td>104</td>\n",
       "      <td>13</td>\n",
       "    </tr>\n",
       "    <tr>\n",
       "      <th>2</th>\n",
       "      <td>3</td>\n",
       "      <td>Robust Golden Unsweetened Oolong Tea</td>\n",
       "      <td>94</td>\n",
       "      <td>7</td>\n",
       "    </tr>\n",
       "    <tr>\n",
       "      <th>3</th>\n",
       "      <td>4</td>\n",
       "      <td>Smart Ones Classic Favorites Mini Rigatoni Wit...</td>\n",
       "      <td>38</td>\n",
       "      <td>1</td>\n",
       "    </tr>\n",
       "    <tr>\n",
       "      <th>4</th>\n",
       "      <td>5</td>\n",
       "      <td>Green Chile Anytime Sauce</td>\n",
       "      <td>5</td>\n",
       "      <td>13</td>\n",
       "    </tr>\n",
       "  </tbody>\n",
       "</table>\n",
       "</div>"
      ],
      "text/plain": [
       "   product_id                                       product_name  aisle_id  \\\n",
       "0           1                         Chocolate Sandwich Cookies        61   \n",
       "1           2                                   All-Seasons Salt       104   \n",
       "2           3               Robust Golden Unsweetened Oolong Tea        94   \n",
       "3           4  Smart Ones Classic Favorites Mini Rigatoni Wit...        38   \n",
       "4           5                          Green Chile Anytime Sauce         5   \n",
       "\n",
       "   department_id  \n",
       "0             19  \n",
       "1             13  \n",
       "2              7  \n",
       "3              1  \n",
       "4             13  "
      ]
     },
     "execution_count": 8,
     "metadata": {},
     "output_type": "execute_result"
    }
   ],
   "source": [
    "product.head()"
   ]
  },
  {
   "cell_type": "code",
   "execution_count": 9,
   "id": "4902df17",
   "metadata": {},
   "outputs": [
    {
     "name": "stdout",
     "output_type": "stream",
     "text": [
      "Aisles: (134, 2)\n",
      "Departments: (21, 2)\n",
      "order_products__prior: (32434489, 4)\n",
      "order_products__train: (1384617, 4)\n",
      "Orders: (3421083, 7)\n",
      "Products: (49688, 4)\n"
     ]
    }
   ],
   "source": [
    "print(\"Aisles:\",aisle.shape)\n",
    "print(\"Departments:\",department.shape)\n",
    "print(\"order_products__prior:\",oP_Prior.shape)\n",
    "print(\"order_products__train:\",oP_Train.shape)\n",
    "print(\"Orders:\",order.shape)\n",
    "print(\"Products:\",product.shape)"
   ]
  },
  {
   "cell_type": "code",
   "execution_count": 10,
   "id": "fbeba03e",
   "metadata": {},
   "outputs": [
    {
     "data": {
      "text/plain": [
       "aisle_id    0\n",
       "aisle       0\n",
       "dtype: int64"
      ]
     },
     "execution_count": 10,
     "metadata": {},
     "output_type": "execute_result"
    }
   ],
   "source": [
    "aisle.isna().sum()"
   ]
  },
  {
   "cell_type": "code",
   "execution_count": 11,
   "id": "a1530290",
   "metadata": {},
   "outputs": [
    {
     "data": {
      "text/plain": [
       "department_id    0\n",
       "department       0\n",
       "dtype: int64"
      ]
     },
     "execution_count": 11,
     "metadata": {},
     "output_type": "execute_result"
    }
   ],
   "source": [
    "department.isna().sum()"
   ]
  },
  {
   "cell_type": "code",
   "execution_count": 12,
   "id": "767c543b",
   "metadata": {},
   "outputs": [
    {
     "data": {
      "text/plain": [
       "order_id             0\n",
       "product_id           0\n",
       "add_to_cart_order    0\n",
       "reordered            0\n",
       "dtype: int64"
      ]
     },
     "execution_count": 12,
     "metadata": {},
     "output_type": "execute_result"
    }
   ],
   "source": [
    "oP_Prior.isna().sum()"
   ]
  },
  {
   "cell_type": "code",
   "execution_count": 13,
   "id": "809ca51d",
   "metadata": {},
   "outputs": [
    {
     "data": {
      "text/plain": [
       "order_id             0\n",
       "product_id           0\n",
       "add_to_cart_order    0\n",
       "reordered            0\n",
       "dtype: int64"
      ]
     },
     "execution_count": 13,
     "metadata": {},
     "output_type": "execute_result"
    }
   ],
   "source": [
    "oP_Train.isna().sum()"
   ]
  },
  {
   "cell_type": "code",
   "execution_count": 14,
   "id": "78d08b49",
   "metadata": {},
   "outputs": [
    {
     "data": {
      "text/plain": [
       "order_id                       0\n",
       "user_id                        0\n",
       "eval_set                       0\n",
       "order_number                   0\n",
       "order_dow                      0\n",
       "order_hour_of_day              0\n",
       "days_since_prior_order    206209\n",
       "dtype: int64"
      ]
     },
     "execution_count": 14,
     "metadata": {},
     "output_type": "execute_result"
    }
   ],
   "source": [
    "order.isna().sum()"
   ]
  },
  {
   "cell_type": "code",
   "execution_count": 15,
   "id": "faefd3ad",
   "metadata": {},
   "outputs": [
    {
     "data": {
      "text/plain": [
       "product_id       0\n",
       "product_name     0\n",
       "aisle_id         0\n",
       "department_id    0\n",
       "dtype: int64"
      ]
     },
     "execution_count": 15,
     "metadata": {},
     "output_type": "execute_result"
    }
   ],
   "source": [
    "product.isna().sum()"
   ]
  },
  {
   "cell_type": "code",
   "execution_count": 16,
   "id": "ba37445e",
   "metadata": {},
   "outputs": [
    {
     "name": "stdout",
     "output_type": "stream",
     "text": [
      "<class 'pandas.core.frame.DataFrame'>\n",
      "RangeIndex: 3421083 entries, 0 to 3421082\n",
      "Data columns (total 7 columns):\n",
      " #   Column                  Dtype  \n",
      "---  ------                  -----  \n",
      " 0   order_id                int64  \n",
      " 1   user_id                 int64  \n",
      " 2   eval_set                object \n",
      " 3   order_number            int64  \n",
      " 4   order_dow               int64  \n",
      " 5   order_hour_of_day       int64  \n",
      " 6   days_since_prior_order  float64\n",
      "dtypes: float64(1), int64(5), object(1)\n",
      "memory usage: 182.7+ MB\n"
     ]
    }
   ],
   "source": [
    "order.info()"
   ]
  },
  {
   "cell_type": "code",
   "execution_count": 17,
   "id": "925475bc",
   "metadata": {},
   "outputs": [],
   "source": [
    "order['days_since_prior_order'] = order['days_since_prior_order'].fillna(order['days_since_prior_order'].mean())"
   ]
  },
  {
   "cell_type": "code",
   "execution_count": 18,
   "id": "4d949b8a",
   "metadata": {},
   "outputs": [
    {
     "data": {
      "text/plain": [
       "order_id                  0\n",
       "user_id                   0\n",
       "eval_set                  0\n",
       "order_number              0\n",
       "order_dow                 0\n",
       "order_hour_of_day         0\n",
       "days_since_prior_order    0\n",
       "dtype: int64"
      ]
     },
     "execution_count": 18,
     "metadata": {},
     "output_type": "execute_result"
    }
   ],
   "source": [
    "order.isna().sum()"
   ]
  },
  {
   "cell_type": "code",
   "execution_count": 19,
   "id": "c6301151",
   "metadata": {},
   "outputs": [
    {
     "data": {
      "text/plain": [
       "0"
      ]
     },
     "execution_count": 19,
     "metadata": {},
     "output_type": "execute_result"
    }
   ],
   "source": [
    "aisle.duplicated().sum()"
   ]
  },
  {
   "cell_type": "code",
   "execution_count": 20,
   "id": "feae1830",
   "metadata": {},
   "outputs": [
    {
     "data": {
      "text/plain": [
       "0"
      ]
     },
     "execution_count": 20,
     "metadata": {},
     "output_type": "execute_result"
    }
   ],
   "source": [
    "department.duplicated().sum()"
   ]
  },
  {
   "cell_type": "code",
   "execution_count": 21,
   "id": "46b1f66f",
   "metadata": {},
   "outputs": [
    {
     "data": {
      "text/plain": [
       "0"
      ]
     },
     "execution_count": 21,
     "metadata": {},
     "output_type": "execute_result"
    }
   ],
   "source": [
    "oP_Prior.duplicated().sum()"
   ]
  },
  {
   "cell_type": "code",
   "execution_count": 22,
   "id": "325fc354",
   "metadata": {},
   "outputs": [
    {
     "data": {
      "text/plain": [
       "0"
      ]
     },
     "execution_count": 22,
     "metadata": {},
     "output_type": "execute_result"
    }
   ],
   "source": [
    "oP_Train.duplicated().sum()"
   ]
  },
  {
   "cell_type": "code",
   "execution_count": 23,
   "id": "ac81c6b2",
   "metadata": {},
   "outputs": [
    {
     "data": {
      "text/plain": [
       "0"
      ]
     },
     "execution_count": 23,
     "metadata": {},
     "output_type": "execute_result"
    }
   ],
   "source": [
    "order.duplicated().sum()"
   ]
  },
  {
   "cell_type": "code",
   "execution_count": 24,
   "id": "d5854739",
   "metadata": {},
   "outputs": [
    {
     "data": {
      "text/plain": [
       "0"
      ]
     },
     "execution_count": 24,
     "metadata": {},
     "output_type": "execute_result"
    }
   ],
   "source": [
    "product.duplicated().sum()"
   ]
  },
  {
   "cell_type": "code",
   "execution_count": 25,
   "id": "a39c9947",
   "metadata": {},
   "outputs": [
    {
     "name": "stdout",
     "output_type": "stream",
     "text": [
      "Total Categorical Columns: 1\n",
      "Categorical Columns: ['aisle']\n",
      "\n",
      "Total Non-Categorical Columns: 1\n",
      "Non-Categorical Columns: ['aisle_id']\n"
     ]
    }
   ],
   "source": [
    "# Get all categorical columns\n",
    "categorical_columns = aisle.select_dtypes(include='object')\n",
    "\n",
    "non_categorical_columns = aisle.select_dtypes(exclude='object')\n",
    "\n",
    "num_categorical_columns = len(categorical_columns.columns)\n",
    "\n",
    "num_non_categorical_columns = len(non_categorical_columns.columns)\n",
    "\n",
    "print(\"Total Categorical Columns:\", num_categorical_columns)\n",
    "print(\"Categorical Columns:\", categorical_columns.columns.tolist())\n",
    "\n",
    "print(\"\\nTotal Non-Categorical Columns:\", num_non_categorical_columns)\n",
    "print(\"Non-Categorical Columns:\", non_categorical_columns.columns.tolist())"
   ]
  },
  {
   "cell_type": "code",
   "execution_count": 26,
   "id": "48851540",
   "metadata": {},
   "outputs": [
    {
     "name": "stdout",
     "output_type": "stream",
     "text": [
      "Total Categorical Columns: 1\n",
      "Categorical Columns: ['department']\n",
      "\n",
      "Total Non-Categorical Columns: 1\n",
      "Non-Categorical Columns: ['department_id']\n"
     ]
    }
   ],
   "source": [
    "# Get all categorical columns\n",
    "categorical_columns = department.select_dtypes(include='object')\n",
    "\n",
    "non_categorical_columns = department.select_dtypes(exclude='object')\n",
    "\n",
    "num_categorical_columns = len(categorical_columns.columns)\n",
    "\n",
    "num_non_categorical_columns = len(non_categorical_columns.columns)\n",
    "\n",
    "print(\"Total Categorical Columns:\", num_categorical_columns)\n",
    "print(\"Categorical Columns:\", categorical_columns.columns.tolist())\n",
    "\n",
    "print(\"\\nTotal Non-Categorical Columns:\", num_non_categorical_columns)\n",
    "print(\"Non-Categorical Columns:\", non_categorical_columns.columns.tolist())"
   ]
  },
  {
   "cell_type": "code",
   "execution_count": 27,
   "id": "09acbd7b",
   "metadata": {},
   "outputs": [
    {
     "name": "stdout",
     "output_type": "stream",
     "text": [
      "Total Categorical Columns: 0\n",
      "Categorical Columns: []\n",
      "\n",
      "Total Non-Categorical Columns: 4\n",
      "Non-Categorical Columns: ['order_id', 'product_id', 'add_to_cart_order', 'reordered']\n"
     ]
    }
   ],
   "source": [
    "# Get all categorical columns\n",
    "categorical_columns = oP_Prior.select_dtypes(include='object')\n",
    "\n",
    "non_categorical_columns = oP_Prior.select_dtypes(exclude='object')\n",
    "\n",
    "num_categorical_columns = len(categorical_columns.columns)\n",
    "\n",
    "num_non_categorical_columns = len(non_categorical_columns.columns)\n",
    "\n",
    "print(\"Total Categorical Columns:\", num_categorical_columns)\n",
    "print(\"Categorical Columns:\", categorical_columns.columns.tolist())\n",
    "\n",
    "print(\"\\nTotal Non-Categorical Columns:\", num_non_categorical_columns)\n",
    "print(\"Non-Categorical Columns:\", non_categorical_columns.columns.tolist())"
   ]
  },
  {
   "cell_type": "code",
   "execution_count": 28,
   "id": "ecafc3f8",
   "metadata": {},
   "outputs": [
    {
     "name": "stdout",
     "output_type": "stream",
     "text": [
      "Total Categorical Columns: 0\n",
      "Categorical Columns: []\n",
      "\n",
      "Total Non-Categorical Columns: 4\n",
      "Non-Categorical Columns: ['order_id', 'product_id', 'add_to_cart_order', 'reordered']\n"
     ]
    }
   ],
   "source": [
    "# Get all categorical columns\n",
    "categorical_columns = oP_Train.select_dtypes(include='object')\n",
    "\n",
    "non_categorical_columns = oP_Train.select_dtypes(exclude='object')\n",
    "\n",
    "num_categorical_columns = len(categorical_columns.columns)\n",
    "\n",
    "num_non_categorical_columns = len(non_categorical_columns.columns)\n",
    "\n",
    "print(\"Total Categorical Columns:\", num_categorical_columns)\n",
    "print(\"Categorical Columns:\", categorical_columns.columns.tolist())\n",
    "\n",
    "print(\"\\nTotal Non-Categorical Columns:\", num_non_categorical_columns)\n",
    "print(\"Non-Categorical Columns:\", non_categorical_columns.columns.tolist())"
   ]
  },
  {
   "cell_type": "code",
   "execution_count": 29,
   "id": "97b11814",
   "metadata": {},
   "outputs": [
    {
     "name": "stdout",
     "output_type": "stream",
     "text": [
      "Total Categorical Columns: 1\n",
      "Categorical Columns: ['eval_set']\n",
      "\n",
      "Total Non-Categorical Columns: 6\n",
      "Non-Categorical Columns: ['order_id', 'user_id', 'order_number', 'order_dow', 'order_hour_of_day', 'days_since_prior_order']\n"
     ]
    }
   ],
   "source": [
    "# Get all categorical columns\n",
    "categorical_columns = order.select_dtypes(include='object')\n",
    "\n",
    "non_categorical_columns = order.select_dtypes(exclude='object')\n",
    "\n",
    "num_categorical_columns = len(categorical_columns.columns)\n",
    "\n",
    "num_non_categorical_columns = len(non_categorical_columns.columns)\n",
    "\n",
    "print(\"Total Categorical Columns:\", num_categorical_columns)\n",
    "print(\"Categorical Columns:\", categorical_columns.columns.tolist())\n",
    "\n",
    "print(\"\\nTotal Non-Categorical Columns:\", num_non_categorical_columns)\n",
    "print(\"Non-Categorical Columns:\", non_categorical_columns.columns.tolist())"
   ]
  },
  {
   "cell_type": "code",
   "execution_count": 30,
   "id": "20777a99",
   "metadata": {},
   "outputs": [
    {
     "name": "stdout",
     "output_type": "stream",
     "text": [
      "Total Categorical Columns: 1\n",
      "Categorical Columns: ['product_name']\n",
      "\n",
      "Total Non-Categorical Columns: 3\n",
      "Non-Categorical Columns: ['product_id', 'aisle_id', 'department_id']\n"
     ]
    }
   ],
   "source": [
    "# Get all categorical columns\n",
    "categorical_columns = product.select_dtypes(include='object')\n",
    "\n",
    "non_categorical_columns = product.select_dtypes(exclude='object')\n",
    "\n",
    "num_categorical_columns = len(categorical_columns.columns)\n",
    "\n",
    "num_non_categorical_columns = len(non_categorical_columns.columns)\n",
    "\n",
    "print(\"Total Categorical Columns:\", num_categorical_columns)\n",
    "print(\"Categorical Columns:\", categorical_columns.columns.tolist())\n",
    "\n",
    "print(\"\\nTotal Non-Categorical Columns:\", num_non_categorical_columns)\n",
    "print(\"Non-Categorical Columns:\", non_categorical_columns.columns.tolist())"
   ]
  },
  {
   "cell_type": "code",
   "execution_count": 31,
   "id": "8e653100",
   "metadata": {},
   "outputs": [
    {
     "name": "stderr",
     "output_type": "stream",
     "text": [
      "C:\\Users\\Mai Waheed\\AppData\\Local\\Temp\\ipykernel_5140\\235831595.py:1: FutureWarning: The frame.append method is deprecated and will be removed from pandas in a future version. Use pandas.concat instead.\n",
      "  order_products1 = oP_Prior.append(oP_Train)\n"
     ]
    },
    {
     "data": {
      "text/plain": [
       "(33819106, 4)"
      ]
     },
     "execution_count": 31,
     "metadata": {},
     "output_type": "execute_result"
    }
   ],
   "source": [
    "order_products1 = oP_Prior.append(oP_Train)\n",
    "order_products1.shape"
   ]
  },
  {
   "cell_type": "code",
   "execution_count": 32,
   "id": "b3c797cc",
   "metadata": {},
   "outputs": [],
   "source": [
    "mergedDataF= order_products1.merge(product, on='product_id')\n",
    "mergedDataF= mergedDataF.merge(aisle, on='aisle_id')\n",
    "mergedDataF = mergedDataF.merge(department, on='department_id')\n",
    "mergedDataF = mergedDataF.merge(order, on='order_id')"
   ]
  },
  {
   "cell_type": "code",
   "execution_count": 33,
   "id": "4491b725",
   "metadata": {},
   "outputs": [],
   "source": [
    "mergedDataF['user_total_orders'] = mergedDataF.groupby('user_id')['order_number'].transform('max')\n",
    "mergedDataF['user_total_products'] = mergedDataF.groupby('user_id')['product_id'].transform('count')\n",
    "mergedDataF['user_reorder_ratio'] = mergedDataF.groupby('user_id')['reordered'].transform('mean')\n",
    "mergedDataF['product_total_orders'] = mergedDataF.groupby('product_id')['order_id'].transform('count')\n",
    "mergedDataF['product_reorder_ratio'] = mergedDataF.groupby('product_id')['reordered'].transform('mean')"
   ]
  },
  {
   "cell_type": "code",
   "execution_count": 34,
   "id": "f252b732",
   "metadata": {},
   "outputs": [
    {
     "data": {
      "text/plain": [
       "(33819106, 20)"
      ]
     },
     "execution_count": 34,
     "metadata": {},
     "output_type": "execute_result"
    }
   ],
   "source": [
    "mergedDataF.shape"
   ]
  },
  {
   "cell_type": "code",
   "execution_count": 35,
   "id": "d9acc634",
   "metadata": {},
   "outputs": [
    {
     "data": {
      "text/plain": [
       "0"
      ]
     },
     "execution_count": 35,
     "metadata": {},
     "output_type": "execute_result"
    }
   ],
   "source": [
    "mergedDataF.duplicated().sum()"
   ]
  },
  {
   "cell_type": "code",
   "execution_count": 36,
   "id": "baa38ace",
   "metadata": {},
   "outputs": [
    {
     "data": {
      "text/html": [
       "<div>\n",
       "<style scoped>\n",
       "    .dataframe tbody tr th:only-of-type {\n",
       "        vertical-align: middle;\n",
       "    }\n",
       "\n",
       "    .dataframe tbody tr th {\n",
       "        vertical-align: top;\n",
       "    }\n",
       "\n",
       "    .dataframe thead th {\n",
       "        text-align: right;\n",
       "    }\n",
       "</style>\n",
       "<table border=\"1\" class=\"dataframe\">\n",
       "  <thead>\n",
       "    <tr style=\"text-align: right;\">\n",
       "      <th></th>\n",
       "      <th>order_id</th>\n",
       "      <th>product_id</th>\n",
       "      <th>add_to_cart_order</th>\n",
       "      <th>reordered</th>\n",
       "      <th>product_name</th>\n",
       "      <th>aisle_id</th>\n",
       "      <th>department_id</th>\n",
       "      <th>aisle</th>\n",
       "      <th>department</th>\n",
       "      <th>user_id</th>\n",
       "      <th>eval_set</th>\n",
       "      <th>order_number</th>\n",
       "      <th>order_dow</th>\n",
       "      <th>order_hour_of_day</th>\n",
       "      <th>days_since_prior_order</th>\n",
       "      <th>user_total_orders</th>\n",
       "      <th>user_total_products</th>\n",
       "      <th>user_reorder_ratio</th>\n",
       "      <th>product_total_orders</th>\n",
       "      <th>product_reorder_ratio</th>\n",
       "    </tr>\n",
       "  </thead>\n",
       "  <tbody>\n",
       "    <tr>\n",
       "      <th>0</th>\n",
       "      <td>2</td>\n",
       "      <td>33120</td>\n",
       "      <td>1</td>\n",
       "      <td>1</td>\n",
       "      <td>Organic Egg Whites</td>\n",
       "      <td>86</td>\n",
       "      <td>16</td>\n",
       "      <td>eggs</td>\n",
       "      <td>dairy eggs</td>\n",
       "      <td>202279</td>\n",
       "      <td>prior</td>\n",
       "      <td>3</td>\n",
       "      <td>5</td>\n",
       "      <td>9</td>\n",
       "      <td>8.0</td>\n",
       "      <td>9</td>\n",
       "      <td>100</td>\n",
       "      <td>0.5</td>\n",
       "      <td>20234</td>\n",
       "      <td>0.710240</td>\n",
       "    </tr>\n",
       "    <tr>\n",
       "      <th>1</th>\n",
       "      <td>2</td>\n",
       "      <td>28985</td>\n",
       "      <td>2</td>\n",
       "      <td>1</td>\n",
       "      <td>Michigan Organic Kale</td>\n",
       "      <td>83</td>\n",
       "      <td>4</td>\n",
       "      <td>fresh vegetables</td>\n",
       "      <td>produce</td>\n",
       "      <td>202279</td>\n",
       "      <td>prior</td>\n",
       "      <td>3</td>\n",
       "      <td>5</td>\n",
       "      <td>9</td>\n",
       "      <td>8.0</td>\n",
       "      <td>9</td>\n",
       "      <td>100</td>\n",
       "      <td>0.5</td>\n",
       "      <td>70076</td>\n",
       "      <td>0.696173</td>\n",
       "    </tr>\n",
       "    <tr>\n",
       "      <th>2</th>\n",
       "      <td>2</td>\n",
       "      <td>17794</td>\n",
       "      <td>6</td>\n",
       "      <td>1</td>\n",
       "      <td>Carrots</td>\n",
       "      <td>83</td>\n",
       "      <td>4</td>\n",
       "      <td>fresh vegetables</td>\n",
       "      <td>produce</td>\n",
       "      <td>202279</td>\n",
       "      <td>prior</td>\n",
       "      <td>3</td>\n",
       "      <td>5</td>\n",
       "      <td>9</td>\n",
       "      <td>8.0</td>\n",
       "      <td>9</td>\n",
       "      <td>100</td>\n",
       "      <td>0.5</td>\n",
       "      <td>75233</td>\n",
       "      <td>0.640876</td>\n",
       "    </tr>\n",
       "    <tr>\n",
       "      <th>3</th>\n",
       "      <td>2</td>\n",
       "      <td>43668</td>\n",
       "      <td>9</td>\n",
       "      <td>0</td>\n",
       "      <td>Classic Blend Cole Slaw</td>\n",
       "      <td>123</td>\n",
       "      <td>4</td>\n",
       "      <td>packaged vegetables fruits</td>\n",
       "      <td>produce</td>\n",
       "      <td>202279</td>\n",
       "      <td>prior</td>\n",
       "      <td>3</td>\n",
       "      <td>5</td>\n",
       "      <td>9</td>\n",
       "      <td>8.0</td>\n",
       "      <td>9</td>\n",
       "      <td>100</td>\n",
       "      <td>0.5</td>\n",
       "      <td>158</td>\n",
       "      <td>0.246835</td>\n",
       "    </tr>\n",
       "    <tr>\n",
       "      <th>4</th>\n",
       "      <td>2</td>\n",
       "      <td>9327</td>\n",
       "      <td>3</td>\n",
       "      <td>0</td>\n",
       "      <td>Garlic Powder</td>\n",
       "      <td>104</td>\n",
       "      <td>13</td>\n",
       "      <td>spices seasonings</td>\n",
       "      <td>pantry</td>\n",
       "      <td>202279</td>\n",
       "      <td>prior</td>\n",
       "      <td>3</td>\n",
       "      <td>5</td>\n",
       "      <td>9</td>\n",
       "      <td>8.0</td>\n",
       "      <td>9</td>\n",
       "      <td>100</td>\n",
       "      <td>0.5</td>\n",
       "      <td>6569</td>\n",
       "      <td>0.158624</td>\n",
       "    </tr>\n",
       "  </tbody>\n",
       "</table>\n",
       "</div>"
      ],
      "text/plain": [
       "   order_id  product_id  add_to_cart_order  reordered  \\\n",
       "0         2       33120                  1          1   \n",
       "1         2       28985                  2          1   \n",
       "2         2       17794                  6          1   \n",
       "3         2       43668                  9          0   \n",
       "4         2        9327                  3          0   \n",
       "\n",
       "              product_name  aisle_id  department_id  \\\n",
       "0       Organic Egg Whites        86             16   \n",
       "1    Michigan Organic Kale        83              4   \n",
       "2                  Carrots        83              4   \n",
       "3  Classic Blend Cole Slaw       123              4   \n",
       "4            Garlic Powder       104             13   \n",
       "\n",
       "                        aisle  department  user_id eval_set  order_number  \\\n",
       "0                        eggs  dairy eggs   202279    prior             3   \n",
       "1            fresh vegetables     produce   202279    prior             3   \n",
       "2            fresh vegetables     produce   202279    prior             3   \n",
       "3  packaged vegetables fruits     produce   202279    prior             3   \n",
       "4           spices seasonings      pantry   202279    prior             3   \n",
       "\n",
       "   order_dow  order_hour_of_day  days_since_prior_order  user_total_orders  \\\n",
       "0          5                  9                     8.0                  9   \n",
       "1          5                  9                     8.0                  9   \n",
       "2          5                  9                     8.0                  9   \n",
       "3          5                  9                     8.0                  9   \n",
       "4          5                  9                     8.0                  9   \n",
       "\n",
       "   user_total_products  user_reorder_ratio  product_total_orders  \\\n",
       "0                  100                 0.5                 20234   \n",
       "1                  100                 0.5                 70076   \n",
       "2                  100                 0.5                 75233   \n",
       "3                  100                 0.5                   158   \n",
       "4                  100                 0.5                  6569   \n",
       "\n",
       "   product_reorder_ratio  \n",
       "0               0.710240  \n",
       "1               0.696173  \n",
       "2               0.640876  \n",
       "3               0.246835  \n",
       "4               0.158624  "
      ]
     },
     "execution_count": 36,
     "metadata": {},
     "output_type": "execute_result"
    }
   ],
   "source": [
    "mergedDataF.head()"
   ]
  },
  {
   "cell_type": "code",
   "execution_count": 37,
   "id": "2cb0f139",
   "metadata": {},
   "outputs": [
    {
     "data": {
      "text/html": [
       "<div>\n",
       "<style scoped>\n",
       "    .dataframe tbody tr th:only-of-type {\n",
       "        vertical-align: middle;\n",
       "    }\n",
       "\n",
       "    .dataframe tbody tr th {\n",
       "        vertical-align: top;\n",
       "    }\n",
       "\n",
       "    .dataframe thead th {\n",
       "        text-align: right;\n",
       "    }\n",
       "</style>\n",
       "<table border=\"1\" class=\"dataframe\">\n",
       "  <thead>\n",
       "    <tr style=\"text-align: right;\">\n",
       "      <th></th>\n",
       "      <th>order_id</th>\n",
       "      <th>product_id</th>\n",
       "      <th>add_to_cart_order</th>\n",
       "      <th>reordered</th>\n",
       "      <th>product_name</th>\n",
       "      <th>aisle_id</th>\n",
       "      <th>department_id</th>\n",
       "      <th>aisle</th>\n",
       "      <th>department</th>\n",
       "      <th>user_id</th>\n",
       "      <th>eval_set</th>\n",
       "      <th>order_number</th>\n",
       "      <th>order_dow</th>\n",
       "      <th>order_hour_of_day</th>\n",
       "      <th>days_since_prior_order</th>\n",
       "      <th>user_total_orders</th>\n",
       "      <th>user_total_products</th>\n",
       "      <th>user_reorder_ratio</th>\n",
       "      <th>product_total_orders</th>\n",
       "      <th>product_reorder_ratio</th>\n",
       "    </tr>\n",
       "  </thead>\n",
       "  <tbody>\n",
       "    <tr>\n",
       "      <th>33819101</th>\n",
       "      <td>1015358</td>\n",
       "      <td>46477</td>\n",
       "      <td>1</td>\n",
       "      <td>0</td>\n",
       "      <td>100% Pure Peppermint Oil</td>\n",
       "      <td>6</td>\n",
       "      <td>2</td>\n",
       "      <td>other</td>\n",
       "      <td>other</td>\n",
       "      <td>27208</td>\n",
       "      <td>prior</td>\n",
       "      <td>44</td>\n",
       "      <td>3</td>\n",
       "      <td>9</td>\n",
       "      <td>1.0</td>\n",
       "      <td>100</td>\n",
       "      <td>903</td>\n",
       "      <td>0.683278</td>\n",
       "      <td>9</td>\n",
       "      <td>0.111111</td>\n",
       "    </tr>\n",
       "    <tr>\n",
       "      <th>33819102</th>\n",
       "      <td>647259</td>\n",
       "      <td>36631</td>\n",
       "      <td>1</td>\n",
       "      <td>0</td>\n",
       "      <td>Soothing Relief Diaper Rash Cream</td>\n",
       "      <td>6</td>\n",
       "      <td>2</td>\n",
       "      <td>other</td>\n",
       "      <td>other</td>\n",
       "      <td>17880</td>\n",
       "      <td>prior</td>\n",
       "      <td>23</td>\n",
       "      <td>2</td>\n",
       "      <td>17</td>\n",
       "      <td>2.0</td>\n",
       "      <td>47</td>\n",
       "      <td>194</td>\n",
       "      <td>0.541237</td>\n",
       "      <td>5</td>\n",
       "      <td>0.000000</td>\n",
       "    </tr>\n",
       "    <tr>\n",
       "      <th>33819103</th>\n",
       "      <td>2010951</td>\n",
       "      <td>16161</td>\n",
       "      <td>1</td>\n",
       "      <td>0</td>\n",
       "      <td>SystemSupport Liver Cleanse Capsules</td>\n",
       "      <td>6</td>\n",
       "      <td>2</td>\n",
       "      <td>other</td>\n",
       "      <td>other</td>\n",
       "      <td>62266</td>\n",
       "      <td>prior</td>\n",
       "      <td>8</td>\n",
       "      <td>3</td>\n",
       "      <td>15</td>\n",
       "      <td>4.0</td>\n",
       "      <td>12</td>\n",
       "      <td>259</td>\n",
       "      <td>0.656371</td>\n",
       "      <td>6</td>\n",
       "      <td>0.166667</td>\n",
       "    </tr>\n",
       "    <tr>\n",
       "      <th>33819104</th>\n",
       "      <td>2684414</td>\n",
       "      <td>1013</td>\n",
       "      <td>1</td>\n",
       "      <td>0</td>\n",
       "      <td>Poly-Vi-Sol® Infants And Toddlers Multivitamin...</td>\n",
       "      <td>6</td>\n",
       "      <td>2</td>\n",
       "      <td>other</td>\n",
       "      <td>other</td>\n",
       "      <td>69235</td>\n",
       "      <td>prior</td>\n",
       "      <td>3</td>\n",
       "      <td>1</td>\n",
       "      <td>22</td>\n",
       "      <td>30.0</td>\n",
       "      <td>5</td>\n",
       "      <td>28</td>\n",
       "      <td>0.035714</td>\n",
       "      <td>20</td>\n",
       "      <td>0.300000</td>\n",
       "    </tr>\n",
       "    <tr>\n",
       "      <th>33819105</th>\n",
       "      <td>3326955</td>\n",
       "      <td>46404</td>\n",
       "      <td>1</td>\n",
       "      <td>0</td>\n",
       "      <td>Cotes De Provence Rose</td>\n",
       "      <td>6</td>\n",
       "      <td>2</td>\n",
       "      <td>other</td>\n",
       "      <td>other</td>\n",
       "      <td>132609</td>\n",
       "      <td>prior</td>\n",
       "      <td>7</td>\n",
       "      <td>3</td>\n",
       "      <td>15</td>\n",
       "      <td>2.0</td>\n",
       "      <td>54</td>\n",
       "      <td>95</td>\n",
       "      <td>0.652632</td>\n",
       "      <td>4</td>\n",
       "      <td>0.250000</td>\n",
       "    </tr>\n",
       "  </tbody>\n",
       "</table>\n",
       "</div>"
      ],
      "text/plain": [
       "          order_id  product_id  add_to_cart_order  reordered  \\\n",
       "33819101   1015358       46477                  1          0   \n",
       "33819102    647259       36631                  1          0   \n",
       "33819103   2010951       16161                  1          0   \n",
       "33819104   2684414        1013                  1          0   \n",
       "33819105   3326955       46404                  1          0   \n",
       "\n",
       "                                               product_name  aisle_id  \\\n",
       "33819101                           100% Pure Peppermint Oil         6   \n",
       "33819102                  Soothing Relief Diaper Rash Cream         6   \n",
       "33819103               SystemSupport Liver Cleanse Capsules         6   \n",
       "33819104  Poly-Vi-Sol® Infants And Toddlers Multivitamin...         6   \n",
       "33819105                             Cotes De Provence Rose         6   \n",
       "\n",
       "          department_id  aisle department  user_id eval_set  order_number  \\\n",
       "33819101              2  other      other    27208    prior            44   \n",
       "33819102              2  other      other    17880    prior            23   \n",
       "33819103              2  other      other    62266    prior             8   \n",
       "33819104              2  other      other    69235    prior             3   \n",
       "33819105              2  other      other   132609    prior             7   \n",
       "\n",
       "          order_dow  order_hour_of_day  days_since_prior_order  \\\n",
       "33819101          3                  9                     1.0   \n",
       "33819102          2                 17                     2.0   \n",
       "33819103          3                 15                     4.0   \n",
       "33819104          1                 22                    30.0   \n",
       "33819105          3                 15                     2.0   \n",
       "\n",
       "          user_total_orders  user_total_products  user_reorder_ratio  \\\n",
       "33819101                100                  903            0.683278   \n",
       "33819102                 47                  194            0.541237   \n",
       "33819103                 12                  259            0.656371   \n",
       "33819104                  5                   28            0.035714   \n",
       "33819105                 54                   95            0.652632   \n",
       "\n",
       "          product_total_orders  product_reorder_ratio  \n",
       "33819101                     9               0.111111  \n",
       "33819102                     5               0.000000  \n",
       "33819103                     6               0.166667  \n",
       "33819104                    20               0.300000  \n",
       "33819105                     4               0.250000  "
      ]
     },
     "execution_count": 37,
     "metadata": {},
     "output_type": "execute_result"
    }
   ],
   "source": [
    "mergedDataF.tail()"
   ]
  },
  {
   "cell_type": "markdown",
   "id": "9816cbfa",
   "metadata": {},
   "source": [
    "### Total Orders and Reorders From Most Popular Aisles"
   ]
  },
  {
   "cell_type": "code",
   "execution_count": 38,
   "id": "0972703f",
   "metadata": {},
   "outputs": [
    {
     "data": {
      "image/png": "[encoded data removed]",
      "text/plain": [
       "<Figure size 1080x576 with 1 Axes>"
      ]
     },
     "metadata": {
      "needs_background": "light"
     },
     "output_type": "display_data"
    }
   ],
   "source": [
    "temp_df = mergedDataF.groupby(\"aisle\")[\"reordered\"].agg(['count', 'sum']).rename(columns = {'count':'total','sum':'reorders'})\n",
    "temp_df = temp_df.sort_values('total', ascending=False).reset_index()\n",
    "\n",
    "fig, ax = plt.subplots(figsize = (15,8))\n",
    "ax = sns.barplot(y = temp_df.aisle[0:20], x = temp_df.total[0:20], color='pink', label = \"total\")\n",
    "ax = sns.barplot(y = temp_df.aisle[0:20], x = temp_df.reorders[0:20], color='seagreen', label = \"reordered\")\n",
    "ax.set_ylabel(\"Aisle\")\n",
    "ax.set_xlabel(\"Orders Count\")\n",
    "ax.set_title(\"Total Orders and Reorders From Most Popular Aisles\")\n",
    "ax.legend(loc = 4, prop={'size': 12})\n",
    "plt.show()"
   ]
  },
  {
   "cell_type": "markdown",
   "id": "edbd7c84",
   "metadata": {},
   "source": [
    "### Total Orders and Reorders From Most Popular Departments"
   ]
  },
  {
   "cell_type": "code",
   "execution_count": 39,
   "id": "ce2fc9cc",
   "metadata": {},
   "outputs": [
    {
     "data": {
      "image/png": "[encoded data removed]",
      "text/plain": [
       "<Figure size 1080x576 with 1 Axes>"
      ]
     },
     "metadata": {
      "needs_background": "light"
     },
     "output_type": "display_data"
    }
   ],
   "source": [
    "temp_df = mergedDataF.groupby(\"department\")[\"reordered\"].agg(['count', 'sum']).rename(columns = {'count':'total','sum':'reorders'})\n",
    "temp_df = temp_df.sort_values('total', ascending=False).reset_index()\n",
    "\n",
    "fig, ax = plt.subplots(figsize=(15, 8))\n",
    "ax = sns.barplot(y = temp_df.department, x = temp_df[\"total\"], color='salmon', label = \"total\")\n",
    "ax = sns.barplot(y = temp_df.department, x = temp_df[\"reorders\"], color='skyblue', label = \"reordered\")\n",
    "ax.set_ylabel(\"Department\")\n",
    "ax.set_xlabel(\"Frequency\")\n",
    "ax.legend(loc = 4, prop={'size': 12})\n",
    "ax.set_title(\"Total Orders and Reorders From Departments\")\n",
    "plt.show()"
   ]
  },
  {
   "cell_type": "code",
   "execution_count": 40,
   "id": "cc1c288b",
   "metadata": {},
   "outputs": [
    {
     "data": {
      "image/png": "[encoded data removed]",
      "text/plain": [
       "<Figure size 864x576 with 1 Axes>"
      ]
     },
     "metadata": {
      "needs_background": "light"
     },
     "output_type": "display_data"
    }
   ],
   "source": [
    "plt.figure(figsize=(12,8))\n",
    "mergedDataF['department'].value_counts().plot(kind='bar', color='crimson')\n",
    "plt.title('Product Sales by Department')\n",
    "plt.xlabel('Department')\n",
    "plt.ylabel('Number of Products Sold')\n",
    "plt.xticks(rotation=45)\n",
    "plt.show()"
   ]
  },
  {
   "cell_type": "code",
   "execution_count": 41,
   "id": "65d0d64c",
   "metadata": {},
   "outputs": [
    {
     "name": "stderr",
     "output_type": "stream",
     "text": [
      "C:\\Anaconda\\lib\\site-packages\\seaborn\\_decorators.py:36: FutureWarning: Pass the following variables as keyword args: x, y. From version 0.12, the only valid positional argument will be `data`, and passing other arguments without an explicit keyword will result in an error or misinterpretation.\n",
      "  warnings.warn(\n"
     ]
    },
    {
     "data": {
      "image/png": "[encoded data removed]",
      "text/plain": [
       "<Figure size 864x576 with 1 Axes>"
      ]
     },
     "metadata": {
      "needs_background": "light"
     },
     "output_type": "display_data"
    }
   ],
   "source": [
    "tempdf = mergedDataF.groupby([\"department\"])[\"reordered\"].aggregate(\"mean\").reset_index()\n",
    "\n",
    "plt.figure(figsize=(12,8))\n",
    "sns.pointplot(tempdf['department'].values, tempdf['reordered'].values, alpha=0.8, color='steelblue')\n",
    "plt.ylabel('Reorder Ratio', fontsize=12)\n",
    "plt.xlabel('Department', fontsize=12)\n",
    "plt.title(\"Reorder ratio by department\", fontsize=15)\n",
    "plt.xticks(rotation='vertical')\n",
    "plt.show()\n",
    "\n"
   ]
  },
  {
   "cell_type": "markdown",
   "id": "0c599f9d",
   "metadata": {},
   "source": [
    "### Total Orders and Reorders From Most Popular Products"
   ]
  },
  {
   "cell_type": "code",
   "execution_count": 42,
   "id": "175d70a9",
   "metadata": {},
   "outputs": [
    {
     "data": {
      "image/png": "[encoded data removed]",
      "text/plain": [
       "<Figure size 720x504 with 1 Axes>"
      ]
     },
     "metadata": {
      "needs_background": "light"
     },
     "output_type": "display_data"
    }
   ],
   "source": [
    "temp_df = mergedDataF.groupby(\"product_name\")[\"reordered\"].agg(['count', 'sum']).rename(columns = {'count':'total','sum':'reorders'})\n",
    "temp_df = temp_df.sort_values('total', ascending=False).reset_index()\n",
    "\n",
    "fig, ax = plt.subplots(figsize = (10,7))\n",
    "ax = sns.barplot(y = temp_df.product_name[0:20], x = temp_df.total[0:20], color='darkgray', label = \"total\")\n",
    "ax = sns.barplot(y = temp_df.product_name[0:20], x = temp_df.reorders[0:20], color='r', label = \"reordered\")\n",
    "ax.set_ylabel(\"Product\")\n",
    "ax.set_xlabel(\"Total Orders\")\n",
    "ax.set_title(\"Most Popular Products\")\n",
    "ax.legend(loc = 4, prop={'size': 12})\n",
    "plt.show()"
   ]
  },
  {
   "cell_type": "code",
   "execution_count": 43,
   "id": "09354936",
   "metadata": {},
   "outputs": [
    {
     "data": {
      "text/plain": [
       "eval_set\n",
       "prior    206209\n",
       "test      75000\n",
       "train    131209\n",
       "Name: user_id, dtype: int64"
      ]
     },
     "execution_count": 43,
     "metadata": {},
     "output_type": "execute_result"
    }
   ],
   "source": [
    "cnt_srs = order.groupby(\"eval_set\")[\"user_id\"].nunique()\n",
    "cnt_srs"
   ]
  },
  {
   "cell_type": "code",
   "execution_count": 44,
   "id": "cb2981ac",
   "metadata": {},
   "outputs": [
    {
     "data": {
      "image/png": "[encoded data removed]",
      "text/plain": [
       "<Figure size 864x576 with 1 Axes>"
      ]
     },
     "metadata": {
      "needs_background": "light"
     },
     "output_type": "display_data"
    }
   ],
   "source": [
    "cnt_srs = order['eval_set'].value_counts()\n",
    "\n",
    "plt.figure(figsize=(12, 8))\n",
    "sns.barplot(x=cnt_srs.index, y=cnt_srs.values, alpha=0.8, palette=sns.color_palette(\"husl\"))\n",
    "plt.ylabel('Number of Occurrences', fontsize=12)\n",
    "plt.xlabel('Eval Set Type', fontsize=12)\n",
    "plt.title('Count of rows in each dataset', fontsize=15)\n",
    "plt.xticks(rotation='vertical')\n",
    "plt.show()\n"
   ]
  },
  {
   "cell_type": "code",
   "execution_count": 45,
   "id": "cd005ce4",
   "metadata": {},
   "outputs": [
    {
     "data": {
      "text/plain": [
       "58.969746679221615"
      ]
     },
     "execution_count": 45,
     "metadata": {},
     "output_type": "execute_result"
    }
   ],
   "source": [
    "(oP_Prior.reordered.sum() / oP_Prior.shape[0])*100 #percentage of reordered products in the prior df"
   ]
  },
  {
   "cell_type": "code",
   "execution_count": 46,
   "id": "47e455bc",
   "metadata": {},
   "outputs": [
    {
     "data": {
      "text/plain": [
       "59.859441275096295"
      ]
     },
     "execution_count": 46,
     "metadata": {},
     "output_type": "execute_result"
    }
   ],
   "source": [
    "(oP_Train.reordered.sum() / oP_Train.shape[0])*100 #percentage of reordered products in the train df"
   ]
  },
  {
   "cell_type": "code",
   "execution_count": 47,
   "id": "f5f19d95",
   "metadata": {},
   "outputs": [
    {
     "data": {
      "text/html": [
       "<div>\n",
       "<style scoped>\n",
       "    .dataframe tbody tr th:only-of-type {\n",
       "        vertical-align: middle;\n",
       "    }\n",
       "\n",
       "    .dataframe tbody tr th {\n",
       "        vertical-align: top;\n",
       "    }\n",
       "\n",
       "    .dataframe thead th {\n",
       "        text-align: right;\n",
       "    }\n",
       "</style>\n",
       "<table border=\"1\" class=\"dataframe\">\n",
       "  <thead>\n",
       "    <tr style=\"text-align: right;\">\n",
       "      <th></th>\n",
       "      <th>product_name</th>\n",
       "      <th>frequency_count</th>\n",
       "    </tr>\n",
       "  </thead>\n",
       "  <tbody>\n",
       "    <tr>\n",
       "      <th>0</th>\n",
       "      <td>Banana</td>\n",
       "      <td>491291</td>\n",
       "    </tr>\n",
       "    <tr>\n",
       "      <th>1</th>\n",
       "      <td>Bag of Organic Bananas</td>\n",
       "      <td>394930</td>\n",
       "    </tr>\n",
       "    <tr>\n",
       "      <th>2</th>\n",
       "      <td>Organic Strawberries</td>\n",
       "      <td>275577</td>\n",
       "    </tr>\n",
       "    <tr>\n",
       "      <th>3</th>\n",
       "      <td>Organic Baby Spinach</td>\n",
       "      <td>251705</td>\n",
       "    </tr>\n",
       "    <tr>\n",
       "      <th>4</th>\n",
       "      <td>Organic Hass Avocado</td>\n",
       "      <td>220877</td>\n",
       "    </tr>\n",
       "    <tr>\n",
       "      <th>5</th>\n",
       "      <td>Organic Avocado</td>\n",
       "      <td>184224</td>\n",
       "    </tr>\n",
       "    <tr>\n",
       "      <th>6</th>\n",
       "      <td>Large Lemon</td>\n",
       "      <td>160792</td>\n",
       "    </tr>\n",
       "    <tr>\n",
       "      <th>7</th>\n",
       "      <td>Strawberries</td>\n",
       "      <td>149445</td>\n",
       "    </tr>\n",
       "    <tr>\n",
       "      <th>8</th>\n",
       "      <td>Limes</td>\n",
       "      <td>146660</td>\n",
       "    </tr>\n",
       "    <tr>\n",
       "      <th>9</th>\n",
       "      <td>Organic Whole Milk</td>\n",
       "      <td>142813</td>\n",
       "    </tr>\n",
       "  </tbody>\n",
       "</table>\n",
       "</div>"
      ],
      "text/plain": [
       "             product_name  frequency_count\n",
       "0                  Banana           491291\n",
       "1  Bag of Organic Bananas           394930\n",
       "2    Organic Strawberries           275577\n",
       "3    Organic Baby Spinach           251705\n",
       "4    Organic Hass Avocado           220877\n",
       "5         Organic Avocado           184224\n",
       "6             Large Lemon           160792\n",
       "7            Strawberries           149445\n",
       "8                   Limes           146660\n",
       "9      Organic Whole Milk           142813"
      ]
     },
     "execution_count": 47,
     "metadata": {},
     "output_type": "execute_result"
    }
   ],
   "source": [
    "product_frequency_count = mergedDataF['product_name'].value_counts()\n",
    "product_frequency_count= product_frequency_count.reset_index()\n",
    "\n",
    "product_frequency_count.head(5)\n",
    "top_10_product_frequency_count = product_frequency_count.head(10)\n",
    "top_10_product_frequency_count.columns = ['product_name', 'frequency_count']\n",
    "top_10_product_frequency_count.head(10)"
   ]
  },
  {
   "cell_type": "code",
   "execution_count": 48,
   "id": "f30d6f14",
   "metadata": {},
   "outputs": [
    {
     "data": {
      "text/plain": [
       "Text(0.5, 1.0, 'Top 10 Products by Frequency Count')"
      ]
     },
     "execution_count": 48,
     "metadata": {},
     "output_type": "execute_result"
    },
    {
     "data": {
      "image/png": "[encoded data removed]",
      "text/plain": [
       "<Figure size 864x432 with 1 Axes>"
      ]
     },
     "metadata": {},
     "output_type": "display_data"
    }
   ],
   "source": [
    "sns.set(style=\"whitegrid\")\n",
    "\n",
    "plt.figure(figsize=(12, 6))\n",
    "sns.barplot(data=top_10_product_frequency_count, x='product_name', y='frequency_count')\n",
    "plt.xticks(rotation=90)\n",
    "plt.xlabel('Product Name')\n",
    "plt.ylabel('Frequency Count')\n",
    "plt.title('Top 10 Products by Frequency Count')\n"
   ]
  },
  {
   "cell_type": "code",
   "execution_count": 49,
   "id": "551f3db1",
   "metadata": {},
   "outputs": [
    {
     "data": {
      "image/png": "[encoded data removed]",
      "text/plain": [
       "<Figure size 864x432 with 1 Axes>"
      ]
     },
     "metadata": {},
     "output_type": "display_data"
    }
   ],
   "source": [
    "days = {\n",
    "    0: 'Sunday',\n",
    "    1: 'Monday',\n",
    "    2: 'Tuesday',\n",
    "    3: 'Wednesday',\n",
    "    4: 'Thursday',\n",
    "    5: 'Friday',\n",
    "    6: 'Saturday'\n",
    "}\n",
    "\n",
    "orders_per_day = mergedDataF.groupby('order_dow')['order_id'].nunique()\n",
    "\n",
    "\n",
    "weekday_labels = []   # Convert day numbers to their corresponding names\n",
    "for day in orders_per_day.index:\n",
    "    weekday_labels.append(days[day])\n",
    "\n",
    "\n",
    "plt.figure(figsize=(12, 6))\n",
    "plt.bar(weekday_labels, orders_per_day)\n",
    "plt.xticks(rotation='vertical')\n",
    "plt.ylabel('Number of Orders')\n",
    "plt.xlabel('Day of the Week')\n",
    "plt.title('Unique Orders Distribution Across the Week')\n",
    "plt.show()"
   ]
  },
  {
   "cell_type": "markdown",
   "id": "873c9f44",
   "metadata": {},
   "source": [
    "### Most Popular Products on different days"
   ]
  },
  {
   "cell_type": "code",
   "execution_count": 50,
   "id": "3212cb8a",
   "metadata": {},
   "outputs": [
    {
     "data": {
      "image/png": "[encoded data removed]",
      "text/plain": [
       "<Figure size 519.475x360 with 1 Axes>"
      ]
     },
     "metadata": {},
     "output_type": "display_data"
    }
   ],
   "source": [
    "temp_df = mergedDataF.groupby(['order_dow', 'product_name']).size().reset_index(name='counts')\n",
    "temp_df = temp_df.sort_values(['order_dow', 'counts'], ascending=[True, False])\n",
    "temp_df = temp_df.groupby('order_dow').head(5).reset_index(drop = True)\n",
    "custom_palette = sns.color_palette(\"Paired\", len(temp_df['product_name'].unique()))\n",
    "ax = sns.catplot(x=\"order_dow\", y=\"counts\", hue=\"product_name\", data=temp_df, kind=\"bar\",palette=custom_palette, legend=False)\n",
    "ax.add_legend(title=\"Product\")\n",
    "ax.set_axis_labels(\"Day of Week\", \"Total Orders of Most Frequent Products\")\n",
    "ax.fig.suptitle(\"Most Popular Products on different Days of Week\", va=\"baseline\", ha=\"center\")\n",
    "ax.savefig(\"Most Popular Products on Different Days of Week.png\")"
   ]
  },
  {
   "cell_type": "code",
   "execution_count": 51,
   "id": "b5dadac2",
   "metadata": {},
   "outputs": [
    {
     "data": {
      "image/png": "[encoded data removed]",
      "text/plain": [
       "<Figure size 864x432 with 2 Axes>"
      ]
     },
     "metadata": {},
     "output_type": "display_data"
    }
   ],
   "source": [
    "temp_df4 = order.groupby([\"order_dow\", \"order_hour_of_day\"])[\"order_number\"].aggregate(\"count\").reset_index()\n",
    "temp_df4 = temp_df4.pivot('order_dow', 'order_hour_of_day', 'order_number')\n",
    "\n",
    "plt.figure(figsize=(12,6))\n",
    "sns.heatmap(temp_df4, cmap=\"PuBuGn\")\n",
    "plt.title(\"Frequency of Day of week Vs Hour of day\")\n",
    "plt.show()"
   ]
  },
  {
   "cell_type": "code",
   "execution_count": 52,
   "id": "d7a4aed7",
   "metadata": {},
   "outputs": [],
   "source": [
    "from sklearn.preprocessing import OneHotEncoder\n",
    "from sklearn.compose import ColumnTransformer\n",
    "\n",
    "categorical_features = ['aisle', 'department','product_name']\n",
    "one_hot_encoder = OneHotEncoder(sparse=False, drop='first')\n",
    "column_transformer = ColumnTransformer(transformers=[('one_hot', one_hot_encoder, categorical_features)], remainder='passthrough')"
   ]
  },
  {
   "cell_type": "markdown",
   "id": "da58cb80",
   "metadata": {},
   "source": [
    "## Model Development"
   ]
  },
  {
   "cell_type": "code",
   "execution_count": 53,
   "id": "811e5059",
   "metadata": {},
   "outputs": [],
   "source": [
    "x = mergedDataF[['user_total_orders', 'user_total_products', 'user_reorder_ratio', 'product_total_orders', 'product_reorder_ratio', 'add_to_cart_order', 'order_dow', 'order_hour_of_day', 'days_since_prior_order']]\n",
    "y = mergedDataF['reordered']"
   ]
  },
  {
   "cell_type": "code",
   "execution_count": 54,
   "id": "2ac29619",
   "metadata": {},
   "outputs": [],
   "source": [
    "x_train, x_test, y_train, y_test = train_test_split(x, y, test_size=0.2, random_state=42)"
   ]
  },
  {
   "cell_type": "code",
   "execution_count": 55,
   "id": "0ef5f8dc",
   "metadata": {},
   "outputs": [
    {
     "name": "stdout",
     "output_type": "stream",
     "text": [
      "Logistic Regression Model:\n",
      "Accuracy: 0.64\n",
      "Precision: 0.75\n",
      "Recall: 0.59\n",
      "AUC-ROC: 0.71\n"
     ]
    }
   ],
   "source": [
    "lr = LogisticRegression(class_weight='balanced', max_iter=1000, random_state=42)\n",
    "\n",
    "lr.fit(x_train, y_train)\n",
    "y_pred_lr = lr.predict(x_test)\n",
    "y_pred_proba_lr = lr.predict_proba(x_test)[:, 1]\n",
    "accuracy_lr = accuracy_score(y_test, y_pred_lr)\n",
    "precision_lr = precision_score(y_test, y_pred_lr)\n",
    "recall_lr = recall_score(y_test, y_pred_lr)\n",
    "roc_auc_lr = roc_auc_score(y_test, y_pred_proba_lr)\n",
    "\n",
    "print('Logistic Regression Model:')\n",
    "print(f'Accuracy: {accuracy_lr:.2f}')\n",
    "print(f'Precision: {precision_lr:.2f}')\n",
    "print(f'Recall: {recall_lr:.2f}')\n",
    "print(f'AUC-ROC: {roc_auc_lr:.2f}')\n"
   ]
  },
  {
   "cell_type": "code",
   "execution_count": 56,
   "id": "b555bd81",
   "metadata": {},
   "outputs": [
    {
     "name": "stdout",
     "output_type": "stream",
     "text": [
      "Decision Tree Model:\n",
      "Accuracy: 0.68\n",
      "Precision: 0.73\n",
      "Recall: 0.73\n",
      "AUC-ROC: 0.67\n"
     ]
    }
   ],
   "source": [
    "dt = DecisionTreeClassifier (random_state = 42)\n",
    "\n",
    "dt.fit(x_train, y_train)\n",
    "y_pred_dt = dt.predict(x_test)\n",
    "y_pred_proba_dt = dt.predict_proba(x_test)[:, 1]\n",
    "accuracy_dt = accuracy_score(y_test, y_pred_dt)\n",
    "precision_dt = precision_score(y_test, y_pred_dt)\n",
    "recall_dt = recall_score(y_test, y_pred_dt)\n",
    "roc_auc_dt = roc_auc_score(y_test, y_pred_proba_dt)\n",
    "\n",
    "print('Decision Tree Model:')\n",
    "print(f'Accuracy: {accuracy_dt:.2f}')\n",
    "print(f'Precision: {precision_dt:.2f}')\n",
    "print(f'Recall: {recall_dt:.2f}')\n",
    "print(f'AUC-ROC: {roc_auc_dt:.2f}')"
   ]
  },
  {
   "cell_type": "code",
   "execution_count": 57,
   "id": "ff498dc0",
   "metadata": {},
   "outputs": [
    {
     "name": "stdout",
     "output_type": "stream",
     "text": [
      "KNN Model:\n",
      "Accuracy: 0.67\n",
      "Precision: 0.70\n",
      "Recall: 0.78\n",
      "AUC-ROC: 0.71\n"
     ]
    }
   ],
   "source": [
    "kNN = KNeighborsClassifier(n_neighbors = 5)\n",
    "\n",
    "kNN.fit(x_train,y_train)\n",
    "y_pred_kNN = kNN.predict(x_test)\n",
    "y_pred_proba_kNN = kNN.predict_proba(x_test)[:, 1]\n",
    "accuracy_kNN = accuracy_score(y_test,y_pred_kNN)\n",
    "precision_kNN = precision_score(y_test,y_pred_kNN)\n",
    "recall_kNN = recall_score(y_test,y_pred_kNN)\n",
    "roc_auc_kNN = roc_auc_score(y_test,y_pred_proba_kNN)\n",
    "print('KNN Model:')\n",
    "print(f'Accuracy: {accuracy_kNN:.2f}')\n",
    "print(f'Precision: {precision_kNN:.2f}')\n",
    "print(f'Recall: {recall_kNN:.2f}')\n",
    "print(f'AUC-ROC: {roc_auc_kNN:.2f}')"
   ]
  },
  {
   "cell_type": "code",
   "execution_count": 58,
   "id": "dc4df79d",
   "metadata": {},
   "outputs": [
    {
     "data": {
      "image/png": "[encoded data removed]",
      "text/plain": [
       "<Figure size 432x288 with 1 Axes>"
      ]
     },
     "metadata": {},
     "output_type": "display_data"
    },
    {
     "name": "stdout",
     "output_type": "stream",
     "text": [
      "Best Model: Decision Tree ==> Highest Accuracy \n"
     ]
    }
   ],
   "source": [
    "accuracy_scores = [accuracy_lr, accuracy_dt, accuracy_kNN]\n",
    "models = ['Logistic Regression', 'Decision Tree', 'K-Nearest Neighbors (KNN)']\n",
    "\n",
    "sns.barplot(y=models, x=accuracy_scores,color='teal')\n",
    "plt.title('Model Accuracy Comparison')\n",
    "plt.xlabel('Accuracy')\n",
    "plt.ylabel('Model')\n",
    "plt.show()\n",
    "print(\"Best Model: Decision Tree ==> Highest Accuracy \")"
   ]
  },
  {
   "cell_type": "code",
   "execution_count": 59,
   "id": "47b13cac",
   "metadata": {},
   "outputs": [
    {
     "data": {
      "image/png": "[encoded data removed]",
      "text/plain": [
       "<Figure size 576x432 with 1 Axes>"
      ]
     },
     "metadata": {},
     "output_type": "display_data"
    }
   ],
   "source": [
    "plt.figure(figsize=(8, 6))\n",
    "\n",
    "# Logistic Regression\n",
    "fpr_lr, tpr_lr, _ = roc_curve(y_test, y_pred_proba_lr)\n",
    "roc_auc_lr = auc(fpr_lr, tpr_lr)\n",
    "plt.plot(fpr_lr, tpr_lr, marker='.', label=f'Logistic Regression (AUC = {roc_auc_lr:.2f})')\n",
    "\n",
    "# Decision Tree\n",
    "fpr_dt, tpr_dt, _ = roc_curve(y_test, y_pred_proba_dt)\n",
    "roc_auc_dt = auc(fpr_dt, tpr_dt)\n",
    "plt.plot(fpr_dt, tpr_dt, marker='.', label=f'Decision Tree (AUC = {roc_auc_dt:.2f})')\n",
    "\n",
    "# K-Nearest Neighbors\n",
    "fpr_kNN, tpr_kNN, _ = roc_curve(y_test, y_pred_proba_kNN)\n",
    "roc_auc_kNN = auc(fpr_kNN, tpr_kNN)\n",
    "plt.plot(fpr_kNN, tpr_kNN, marker='.', label=f'K-Nearest Neighbors (AUC = {roc_auc_kNN:.2f})')\n",
    "\n",
    "# Random Guess\n",
    "plt.plot([0, 1], [0, 1], linestyle='--', color='grey', label='Random Guess')\n",
    "\n",
    "# Plot settings\n",
    "plt.xlabel('False Positive Rate')\n",
    "plt.ylabel('True Positive Rate')\n",
    "plt.title('ROC Curve')\n",
    "plt.legend()\n",
    "plt.show()\n"
   ]
  },
  {
   "cell_type": "code",
   "execution_count": 60,
   "id": "a1c81703",
   "metadata": {},
   "outputs": [
    {
     "data": {
      "text/plain": [
       "<Figure size 720x432 with 0 Axes>"
      ]
     },
     "metadata": {},
     "output_type": "display_data"
    },
    {
     "data": {
      "image/png": "[encoded data removed]",
      "text/plain": [
       "<Figure size 432x288 with 1 Axes>"
      ]
     },
     "metadata": {},
     "output_type": "display_data"
    }
   ],
   "source": [
    "pred_df = pd.DataFrame({'Actual': y_test, 'Predicted': y_pred_dt})\n",
    "\n",
    "# Plot the actual vs predicted counts\n",
    "actual_counts = pred_df['Actual'].value_counts().sort_index()\n",
    "predicted_counts = pred_df['Predicted'].value_counts().sort_index()\n",
    "\n",
    "count_df = pd.DataFrame({'Actual': actual_counts, 'Predicted': predicted_counts}).reset_index()\n",
    "count_df.columns = ['Reordered', 'Actual', 'Predicted']\n",
    "\n",
    "# Create the bar plot\n",
    "plt.figure(figsize=(10, 6))\n",
    "count_df.plot(kind='bar', x='Reordered', y=['Actual', 'Predicted'], color=['skyblue', 'orange'])\n",
    "plt.xlabel('Reordered')\n",
    "plt.ylabel('Count')\n",
    "plt.title('Actual vs Predicted Reorder Counts')\n",
    "plt.xticks(ticks=[0, 1], labels=['Not Reordered', 'Reordered'], rotation=0)\n",
    "plt.show()"
   ]
  }
 ],
 "metadata": {
  "kernelspec": {
   "display_name": "Python 3 (ipykernel)",
   "language": "python",
   "name": "python3"
  },
  "language_info": {
   "codemirror_mode": {
    "name": "ipython",
    "version": 3
   },
   "file_extension": ".py",
   "mimetype": "text/x-python",
   "name": "python",
   "nbconvert_exporter": "python",
   "pygments_lexer": "ipython3",
   "version": "3.9.12"
  }
 },
 "nbformat": 4,
 "nbformat_minor": 5
}
